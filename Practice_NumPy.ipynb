{
  "cells": [
    {
      "cell_type": "code",
      "execution_count": 1,
      "metadata": {
        "id": "H3JBWz_CkJjG"
      },
      "outputs": [],
      "source": [
        "import numpy as np"
      ]
    },
    {
      "cell_type": "code",
      "execution_count": null,
      "metadata": {
        "id": "NPCLIbOoaGjP"
      },
      "outputs": [],
      "source": []
    },
    {
      "cell_type": "code",
      "execution_count": null,
      "metadata": {
        "colab": {
          "base_uri": "https://localhost:8080/"
        },
        "id": "EMto24WNZwkI",
        "outputId": "18070c4d-6018-4b0c-a957-719dcae39055"
      },
      "outputs": [
        {
          "name": "stdout",
          "output_type": "stream",
          "text": [
            "ndarray transpose :\n",
            " [[1 3]\n",
            " [2 4]]\n",
            "matrix transpose :\n",
            " [[1 3]\n",
            " [2 4]]\n"
          ]
        }
      ],
      "source": [
        "arr1 = np.arange(1,5).reshape(2,2)\n",
        "m = np.matrix(arr1)\n",
        "ndarray_T = arr1.T\n",
        "matrix_T = m.T\n",
        "print(f'ndarray transpose :\\n {ndarray_T}')\n",
        "print(f'matrix transpose :\\n {matrix_T}')"
      ]
    },
    {
      "cell_type": "code",
      "execution_count": null,
      "metadata": {
        "id": "WXWDzoevaHjw"
      },
      "outputs": [],
      "source": [
        "# Linear Algebra function from linalg module\n",
        "# numpy.linalg contains functions to perform linear algebra operations\n",
        "#  inv()          ==> to find inverse of a matrix\n",
        "#  matrix_power() ==> to find power of a matrix like A^n\n",
        "#  det            ==> to find the determinant of a matrix\n",
        "#  solve()        ==> to solve linear algebra equations"
      ]
    },
    {
      "cell_type": "code",
      "execution_count": null,
      "metadata": {
        "colab": {
          "base_uri": "https://localhost:8080/"
        },
        "id": "7njeCecraIiQ",
        "outputId": "3048ce72-5377-4fd3-ec43-a4ed1bdf6f44"
      },
      "outputs": [
        {
          "name": "stdout",
          "output_type": "stream",
          "text": [
            "Original Matrix :: \n",
            " [[1 2]\n",
            " [3 4]]\n",
            "Inverse of the Matrix :: \n",
            " [[-2.   1. ]\n",
            " [ 1.5 -0.5]]\n"
          ]
        }
      ],
      "source": [
        "arr1 = np.arange(1,).reshape(2,2)\n",
        "arr1_inv = np.linalg.inv(arr1)\n",
        "print(f\"Original Matrix :: \\n {arr1}\")\n",
        "print(f\"Inverse of the Matrix :: \\n {arr1_inv}\")"
      ]
    },
    {
      "cell_type": "code",
      "execution_count": null,
      "metadata": {
        "colab": {
          "base_uri": "https://localhost:8080/"
        },
        "id": "E55D2ME5aiX2",
        "outputId": "66b0b9b9-f1a4-48f3-a9bb-b38cf3246c6c"
      },
      "outputs": [
        {
          "name": "stdout",
          "output_type": "stream",
          "text": [
            "Original Matrix :: \n",
            " [[1 2]\n",
            " [3 4]]\n",
            "Inverse of the Matrix :: \n",
            " [[-2.   1. ]\n",
            " [ 1.5 -0.5]]\n",
            "Dot product of Matrix and Inverse of Matrix :: \n",
            " [[1.0000000e+00 0.0000000e+00]\n",
            " [8.8817842e-16 1.0000000e+00]]\n",
            "Identity Matrix(2-D array using eye() function):: \n",
            " [[1. 0.]\n",
            " [0. 1.]]\n"
          ]
        }
      ],
      "source": [
        "arr1 = np.arange(1,5).reshape(2,2)\n",
        "arr1_inv = np.linalg.inv(arr1)\n",
        "dot_produt = np.dot(arr1,arr1_inv)\n",
        "i = np.eye(2) # Identity matrix for the shape 2 ==> 2-D Arrray\n",
        "print(f\"Original Matrix :: \\n {arr1}\")\n",
        "print(f\"Inverse of the Matrix :: \\n {arr1_inv}\")\n",
        "print(f\"Dot product of Matrix and Inverse of Matrix :: \\n {dot_produt}\")\n",
        "print(f\"Identity Matrix(2-D array using eye() function):: \\n {i}\")"
      ]
    },
    {
      "cell_type": "code",
      "execution_count": null,
      "metadata": {
        "colab": {
          "base_uri": "https://localhost:8080/"
        },
        "id": "xrSujgK_a8Gd",
        "outputId": "cdd5a287-8c7a-4f23-eb16-0bf940a26b4b"
      },
      "outputs": [
        {
          "name": "stdout",
          "output_type": "stream",
          "text": [
            "[[1 2]\n",
            " [3 4]]\n",
            "[[-2.   1. ]\n",
            " [ 1.5 -0.5]]\n",
            "[[1.0000000e+00 0.0000000e+00]\n",
            " [8.8817842e-16 1.0000000e+00]]\n",
            "[[1. 0.]\n",
            " [0. 1.]]\n"
          ]
        },
        {
          "data": {
            "text/plain": [
              "True"
            ]
          },
          "execution_count": 9,
          "metadata": {},
          "output_type": "execute_result"
        }
      ],
      "source": [
        "#allclose() function\n",
        "arr1 = np.arange(1,5).reshape(2,2)\n",
        "arr1_inv = np.linalg.inv(arr1)\n",
        "print(arr1)\n",
        "print(arr1_inv)\n",
        "dot_produt = np.dot(arr1,arr1_inv)\n",
        "print(dot_produt)\n",
        "print(np.eye(2))\n",
        "np.allclose(dot_produt,np.eye(2))"
      ]
    },
    {
      "cell_type": "code",
      "execution_count": null,
      "metadata": {
        "colab": {
          "base_uri": "https://localhost:8080/"
        },
        "id": "M4jBT7vUbYNR",
        "outputId": "06e908ce-42d6-429a-c2b9-347ed331a3fa"
      },
      "outputs": [
        {
          "name": "stdout",
          "output_type": "stream",
          "text": [
            "Coefficient Matrix : \n",
            " [[1 2]\n",
            " [2 5]]\n",
            "Dependent Matrix : \n",
            " [4 9]\n",
            "Solution array : [2. 1.]\n",
            "Type of result : <class 'numpy.ndarray'>\n"
          ]
        }
      ],
      "source": [
        "# x+2y = 4\n",
        "# 2x+5y= 9\n",
        "coef = np.array([[1,2],[2,5]])\n",
        "dep = np.array([4,9])\n",
        "result = np.linalg.solve(coef,dep)\n",
        "print(f\"Coefficient Matrix : \\n {coef}\")\n",
        "print(f\"Dependent Matrix : \\n {dep}\")\n",
        "print(f\"Solution array : {result}\")\n",
        "print(f\"Type of result : {type(result)}\")"
      ]
    },
    {
      "cell_type": "code",
      "execution_count": null,
      "metadata": {
        "colab": {
          "base_uri": "https://localhost:8080/"
        },
        "id": "h30StBsrbi7e",
        "outputId": "246705ac-fe38-4382-a403-5885fece1196"
      },
      "outputs": [
        {
          "name": "stdout",
          "output_type": "stream",
          "text": [
            "Coefficient Matrix : \n",
            " [[-4  7 -2]\n",
            " [ 1 -2  1]\n",
            " [ 2 -3  1]]\n",
            "Dependent Matrix : \n",
            " [ 2  3 -4]\n",
            "Solution array : [-13.  -6.   4.]\n"
          ]
        }
      ],
      "source": [
        "# 2x+3y-2z = 3\n",
        "# x-2y+z = 3\n",
        "# 2x-3y+z = -4\n",
        "coef = np.array([[-4,7,-2],[1,-2,1],[2,-3,1]])\n",
        "dep = np.array([2,3,-4])\n",
        "result = np.linalg.solve(coef,dep)\n",
        "print(f\"Coefficient Matrix : \\n {coef}\")\n",
        "print(f\"Dependent Matrix : \\n {dep}\")\n",
        "print(f\"Solution array : {result}\")"
      ]
    },
    {
      "cell_type": "code",
      "execution_count": null,
      "metadata": {
        "colab": {
          "base_uri": "https://localhost:8080/"
        },
        "id": "ScARbhnQ30nm",
        "outputId": "fb5edbb7-e3ed-46a0-9602-816617d7008b"
      },
      "outputs": [
        {
          "name": "stdout",
          "output_type": "stream",
          "text": [
            "array arr1 : \n",
            " [[1 2]\n",
            " [3 4]]\n",
            "array arr2 : \n",
            " [[4 3]\n",
            " [2 1]]\n",
            "Element level multiplication \n",
            "array  : \n",
            " [[4 6]\n",
            " [6 4]]\n",
            "array  : \n",
            " [[ 8  5]\n",
            " [20 13]]\n"
          ]
        }
      ],
      "source": [
        "arr1 = np.arange(1,5).reshape(2,2)\n",
        "arr2 = np.arange(4,0,-1).reshape(2,2)\n",
        "print(f\"array arr1 : \\n {arr1}\")\n",
        "print(f\"array arr2 : \\n {arr2}\")\n",
        "print(\"Element level multiplication \")\n",
        "\n",
        "ele_multiplication = arr1*arr2\n",
        "print(f\"array  : \\n {ele_multiplication}\")\n",
        "\n",
        "dot_prod = np.dot(arr1,arr2)\n",
        "print(f\"array  : \\n {dot_prod}\")"
      ]
    },
    {
      "cell_type": "code",
      "execution_count": null,
      "metadata": {
        "colab": {
          "base_uri": "https://localhost:8080/"
        },
        "id": "tKQq5kGX6QwT",
        "outputId": "23a1772b-2545-4f66-99de-454a4f42f222"
      },
      "outputs": [
        {
          "data": {
            "text/plain": [
              "matrix([[ 8,  5],\n",
              "        [20, 13]])"
            ]
          },
          "execution_count": 4,
          "metadata": {},
          "output_type": "execute_result"
        }
      ],
      "source": [
        "\n",
        "mat1 = np.matrix(arr1)\n",
        "mat2 = np.matrix(arr2)\n",
        "\n",
        "# print(type(arr1))\n",
        "# print(type(mat1))\n",
        "\n",
        "mat1*mat2"
      ]
    },
    {
      "cell_type": "code",
      "execution_count": null,
      "metadata": {
        "id": "1is-xoKY7yHs"
      },
      "outputs": [],
      "source": []
    },
    {
      "cell_type": "code",
      "execution_count": null,
      "metadata": {
        "colab": {
          "base_uri": "https://localhost:8080/"
        },
        "id": "30ozOvPtbW2-",
        "outputId": "0cfb7ac5-059d-4c40-9ac6-ede64a9314c0"
      },
      "outputs": [
        {
          "name": "stdout",
          "output_type": "stream",
          "text": [
            " arr1 : \n",
            "[70 20 60 10 50 40 30]\n",
            " arr2 : \n",
            "[10 20 30 40 50 60 70]\n"
          ]
        }
      ],
      "source": [
        "arr1 = np.array([70,20,60,10,50,40,30])\n",
        "arr2 = np.sort(arr1)\n",
        "print(f\" arr1 : \\n{arr1}\")\n",
        "print(f\" arr2 : \\n{arr2}\")"
      ]
    },
    {
      "cell_type": "code",
      "execution_count": null,
      "metadata": {
        "colab": {
          "base_uri": "https://localhost:8080/"
        },
        "id": "A-5VkCZRbyPe",
        "outputId": "668d558d-0f71-48bf-85e9-1e1720ca6e45"
      },
      "outputs": [
        {
          "data": {
            "text/plain": [
              "array([-70, -20, -60, -10, -50, -40, -30])"
            ]
          },
          "execution_count": 7,
          "metadata": {},
          "output_type": "execute_result"
        }
      ],
      "source": [
        "arr1 = np.array([70,20,60,10,50,40,30])\n",
        "-arr1\n"
      ]
    },
    {
      "cell_type": "code",
      "execution_count": null,
      "metadata": {
        "colab": {
          "base_uri": "https://localhost:8080/"
        },
        "id": "m_AUuJ8RZ7MP",
        "outputId": "d48c6e40-c08b-4340-c144-1eb6b395e66c"
      },
      "outputs": [
        {
          "name": "stdout",
          "output_type": "stream",
          "text": [
            "arr1 : \n",
            "[[[ 1  2  3  4]\n",
            "  [ 5  6  7  8]\n",
            "  [ 9 10 11 12]]\n",
            "\n",
            " [[13 14 15 16]\n",
            "  [17 18 19 20]\n",
            "  [21 22 23 24]]]\n",
            "arr2 : \n",
            "[array([[[ 1,  2],\n",
            "        [ 5,  6],\n",
            "        [ 9, 10]],\n",
            "\n",
            "       [[13, 14],\n",
            "        [17, 18],\n",
            "        [21, 22]]]), array([[[ 3,  4],\n",
            "        [ 7,  8],\n",
            "        [11, 12]],\n",
            "\n",
            "       [[15, 16],\n",
            "        [19, 20],\n",
            "        [23, 24]]]), array([], shape=(2, 3, 0), dtype=int64)]\n"
          ]
        }
      ],
      "source": [
        "arr1 = np.arange(1,25).reshape(2,3,4)\n",
        "# arr2 = np.dsplit(arr1,2) # 3 section\n",
        "arr2 = np.dsplit(arr1,[2,4]) # 3 section\n",
        "print(f\"arr1 : \\n{arr1}\")\n",
        "print(f\"arr2 : \\n{arr2}\")"
      ]
    },
    {
      "cell_type": "code",
      "execution_count": null,
      "metadata": {
        "colab": {
          "base_uri": "https://localhost:8080/"
        },
        "id": "w0THWIc0tHoG",
        "outputId": "7abcb33f-5039-4ed6-a008-6a47e9f85d9d"
      },
      "outputs": [
        {
          "name": "stdout",
          "output_type": "stream",
          "text": [
            "arr1 : \n",
            "[ 1  2  3  4  5  6  7  8  9 10 11 12 13 14 15 16 17 18 19 20 21 22 23 24\n",
            " 25 26 27 28 29 30 31 32 33 34 35 36 37 38 39 40 41 42 43]\n",
            "arr2 : \n",
            "[array([1, 2, 3, 4, 5, 6, 7, 8]), array([ 9, 10, 11, 12, 13, 14, 15]), array([16, 17, 18, 19, 20, 21, 22]), array([23, 24, 25, 26, 27, 28, 29]), array([30, 31, 32, 33, 34, 35, 36]), array([37, 38, 39, 40, 41, 42, 43])]\n"
          ]
        }
      ],
      "source": [
        "arr1 = np.arange(1,44)\n",
        "arr2 = np.array_split(arr1,6) # 3 section\n",
        "print(f\"arr1 : \\n{arr1}\")\n",
        "print(f\"arr2 : \\n{arr2}\")"
      ]
    },
    {
      "cell_type": "code",
      "execution_count": null,
      "metadata": {
        "colab": {
          "base_uri": "https://localhost:8080/"
        },
        "id": "l0oNXOlInq3M",
        "outputId": "fc1ac49e-b51e-4465-966a-d6ea0c39b557"
      },
      "outputs": [
        {
          "name": "stdout",
          "output_type": "stream",
          "text": [
            "arr1 : \n",
            "[[[ 1  2  3  4]\n",
            "  [ 5  6  7  8]\n",
            "  [ 9 10 11 12]\n",
            "  [13 14 15 16]]\n",
            "\n",
            " [[17 18 19 20]\n",
            "  [21 22 23 24]\n",
            "  [25 26 27 28]\n",
            "  [29 30 31 32]]\n",
            "\n",
            " [[33 34 35 36]\n",
            "  [37 38 39 40]\n",
            "  [41 42 43 44]\n",
            "  [45 46 47 48]]\n",
            "\n",
            " [[49 50 51 52]\n",
            "  [53 54 55 56]\n",
            "  [57 58 59 60]\n",
            "  [61 62 63 64]]]\n",
            "arr2 : \n",
            "[array([[[ 1,  2,  3,  4],\n",
            "        [ 5,  6,  7,  8],\n",
            "        [ 9, 10, 11, 12],\n",
            "        [13, 14, 15, 16]],\n",
            "\n",
            "       [[17, 18, 19, 20],\n",
            "        [21, 22, 23, 24],\n",
            "        [25, 26, 27, 28],\n",
            "        [29, 30, 31, 32]]]), array([[[33, 34, 35, 36],\n",
            "        [37, 38, 39, 40],\n",
            "        [41, 42, 43, 44],\n",
            "        [45, 46, 47, 48]],\n",
            "\n",
            "       [[49, 50, 51, 52],\n",
            "        [53, 54, 55, 56],\n",
            "        [57, 58, 59, 60],\n",
            "        [61, 62, 63, 64]]])]\n"
          ]
        }
      ],
      "source": [
        "arr1 = np.arange(1,65).reshape(4,4,4)\n",
        "# arr2 = np.split(arr1,2) # 3 section\n",
        "# arr2 = np.split(arr1,[2,4],axis=1) # 3 section\n",
        "# print(f\"arr1 : \\n{arr1}\")\n",
        "# print(f\"arr2 : \\n{arr2}\")"
      ]
    },
    {
      "cell_type": "code",
      "execution_count": null,
      "metadata": {
        "colab": {
          "base_uri": "https://localhost:8080/"
        },
        "id": "X2OwMIY7kjZv",
        "outputId": "82c1dd11-0eeb-414b-f59b-1357e0a3d8c2"
      },
      "outputs": [
        {
          "name": "stdout",
          "output_type": "stream",
          "text": [
            "arr1 : \n",
            "[[ 1  2  3  4  5]\n",
            " [ 6  7  8  9 10]\n",
            " [11 12 13 14 15]\n",
            " [16 17 18 19 20]\n",
            " [21 22 23 24 25]\n",
            " [26 27 28 29 30]]\n",
            "arr2 : \n",
            "[array([[ 1,  2,  3,  4,  5],\n",
            "       [ 6,  7,  8,  9, 10],\n",
            "       [11, 12, 13, 14, 15]]), array([[16, 17, 18, 19, 20],\n",
            "       [21, 22, 23, 24, 25],\n",
            "       [26, 27, 28, 29, 30]])]\n"
          ]
        }
      ],
      "source": [
        "# arr1 = np.arange(1,31).reshape(6,5)\n",
        "arr2 = np.split(arr1,2,axis=0) # 3 section\n",
        "# arr2 = np.split(arr1,2,axis=1) # 3 section\n",
        "print(f\"arr1 : \\n{arr1}\")\n",
        "print(f\"arr2 : \\n{arr2}\")"
      ]
    },
    {
      "cell_type": "code",
      "execution_count": null,
      "metadata": {
        "id": "F7rYMfw2kSbb"
      },
      "outputs": [],
      "source": [
        "arr1 = np.arange(0,5)\n",
        "arr2 = np.split(arr1,3) # 3 section\n",
        "print(f\"arr1 : {arr1}\")\n",
        "print(f\"type of arr2 : {type(arr2)}\")\n",
        "print(f\"arr2 : {arr2}\")"
      ]
    },
    {
      "cell_type": "code",
      "execution_count": null,
      "metadata": {
        "colab": {
          "base_uri": "https://localhost:8080/"
        },
        "id": "S67kw3z4dOl1",
        "outputId": "6ca954ca-0130-42e0-aca8-2b7d35899b18"
      },
      "outputs": [
        {
          "name": "stdout",
          "output_type": "stream",
          "text": [
            "arr1 : [0 1 2 3 4]\n",
            "type of arr2 : <class 'list'>\n",
            "arr2 : [array([0, 1]), array([2, 3]), array([4]), array([], dtype=int64), array([], dtype=int64)]\n"
          ]
        }
      ],
      "source": [
        "arr1 = np.arange(0,5)\n",
        "arr2 = np.split(arr1,[2,4,6,8])\n",
        "print(f\"arr1 : {arr1}\")\n",
        "print(f\"type of arr2 : {type(arr2)}\")\n",
        "print(f\"arr2 : {arr2}\")"
      ]
    },
    {
      "cell_type": "code",
      "execution_count": null,
      "metadata": {
        "colab": {
          "base_uri": "https://localhost:8080/"
        },
        "id": "gNwkUbMuY9UR",
        "outputId": "29ed649a-4f53-4ecd-b1dd-b1ac80ada2dc"
      },
      "outputs": [
        {
          "name": "stdout",
          "output_type": "stream",
          "text": [
            " arr1 \n",
            " [[1 2 3]\n",
            " [4 5 6]]\n",
            " arr2 \n",
            " [[11 12 13]\n",
            " [14 15 16]]\n",
            " shape3  (2, 2, 3)\n",
            " shape4  (2, 2, 3)\n",
            " shape5  (2, 3, 2)\n",
            " arr3 \n",
            " [[[ 1  2  3]\n",
            "  [ 4  5  6]]\n",
            "\n",
            " [[11 12 13]\n",
            "  [14 15 16]]]\n",
            " arr4 \n",
            " [[[ 1  2  3]\n",
            "  [11 12 13]]\n",
            "\n",
            " [[ 4  5  6]\n",
            "  [14 15 16]]]\n",
            " arr5 \n",
            " [[[ 1 11]\n",
            "  [ 2 12]\n",
            "  [ 3 13]]\n",
            "\n",
            " [[ 4 14]\n",
            "  [ 5 15]\n",
            "  [ 6 16]]]\n"
          ]
        }
      ],
      "source": [
        "arr1 = np.arange(1,7).reshape(2,3)\n",
        "arr2 = np.arange(11,17).reshape(2,3)\n",
        "print(f\" arr1 \\n {arr1}\")\n",
        "print(f\" arr2 \\n {arr2}\")\n",
        "arr3 = np.stack((arr1,arr2))\n",
        "arr4 = np.stack((arr1,arr2),axis=1)\n",
        "arr5 = np.stack((arr1,arr2),axis=2)\n",
        "# print(f\" shape {arr1.shape}\")\n",
        "# print(f\" shape {arr2.shape}\")\n",
        "print(f\" shape3  {arr3.shape}\")\n",
        "print(f\" shape4  {arr4.shape}\")\n",
        "print(f\" shape5  {arr5.shape}\")\n",
        "\n",
        "print(f\" arr3 \\n {arr3}\")\n",
        "print(f\" arr4 \\n {arr4}\")\n",
        "print(f\" arr5 \\n {arr5}\")"
      ]
    },
    {
      "cell_type": "code",
      "execution_count": null,
      "metadata": {
        "colab": {
          "base_uri": "https://localhost:8080/"
        },
        "id": "KDtj-c6qFM0B",
        "outputId": "85edba4a-dff5-4152-f8aa-addba902864d"
      },
      "outputs": [
        {
          "name": "stdout",
          "output_type": "stream",
          "text": [
            " shape (3,)\n",
            " shape (3,)\n",
            " shape (2, 3)\n",
            " shape (3, 2)\n",
            " arr3 \n",
            " [[10 20 30]\n",
            " [40 50 60]]\n",
            " arr4 \n",
            " [[10 40]\n",
            " [20 50]\n",
            " [30 60]]\n"
          ]
        }
      ],
      "source": [
        "arr1 = np.array([10,20,30])\n",
        "arr2 = np.array([40,50,60])\n",
        "arr3 = np.stack((arr1,arr2))\n",
        "arr4 = np.stack((arr1,arr2),axis=1)\n",
        "print(f\" shape {arr1.shape}\")\n",
        "print(f\" shape {arr2.shape}\")\n",
        "print(f\" shape {arr3.shape}\")\n",
        "print(f\" shape {arr4.shape}\")\n",
        "\n",
        "print(f\" arr3 \\n {arr3}\")\n",
        "print(f\" arr4 \\n {arr4}\")\n"
      ]
    },
    {
      "cell_type": "code",
      "execution_count": null,
      "metadata": {
        "colab": {
          "base_uri": "https://localhost:8080/"
        },
        "id": "IdaZxPE2Xb7C",
        "outputId": "ca12abef-dbd0-4847-caf4-61c05e7aceea"
      },
      "outputs": [
        {
          "name": "stdout",
          "output_type": "stream",
          "text": [
            "Array 1  \n",
            " [[[ 1  2]\n",
            "  [ 3  4]\n",
            "  [ 5  6]]\n",
            "\n",
            " [[ 7  8]\n",
            "  [ 9 10]\n",
            "  [11 12]]]\n",
            "Array 2  \n",
            " [[[11 12 13]\n",
            "  [14 15 16]\n",
            "  [17 18 19]]\n",
            "\n",
            " [[20 21 22]\n",
            "  [23 24 25]\n",
            "  [26 27 28]]]\n",
            "Horizontal Concatenation  \n",
            " [ 1  2  3  4  5  6  7  8  9 10 11 12 11 12 13 14 15 16 17 18 19 20 21 22\n",
            " 23 24 25 26 27 28]\n"
          ]
        }
      ],
      "source": [
        "arr1 = np.arange(1,13).reshape(2,3,2)\n",
        "arr2 = np.arange(11,29).reshape(2,3,3)\n",
        "\n",
        "print(f\"Array 1  \\n {arr1}\")\n",
        "print(f\"Array 2  \\n {arr2}\")\n",
        "\n",
        "# # # Vertical Concatenation\n",
        "# vcon = np.concatenate((arr1,arr2))\n",
        "# print(f\"Vertical Concatenation  \\n {vcon}\")\n",
        "\n",
        "# # Horizontal Concateation\n",
        "hcon = np.concatenate((arr1,arr2),axis=None)\n",
        "print(f\"Horizontal Concatenation  \\n {hcon}\")\n",
        "\n",
        "# # # flatten and then concatenation\n",
        "# flat = np.concatenate((arr1,arr2),axis=None)\n",
        "# print(f\"Flat Concatenation  \\n {flat}\")\n"
      ]
    },
    {
      "cell_type": "code",
      "execution_count": null,
      "metadata": {
        "colab": {
          "base_uri": "https://localhost:8080/",
          "height": 593
        },
        "id": "Nn-UOdn35IEp",
        "outputId": "562ec9ec-d463-4bb9-ddac-5454691daa8e"
      },
      "outputs": [
        {
          "name": "stdout",
          "output_type": "stream",
          "text": [
            "Array 1  \n",
            " [[1 2 3]\n",
            " [4 5 6]]\n",
            "Array 2  \n",
            " [[11 12 13]\n",
            " [14 15 16]\n",
            " [17 18 19]\n",
            " [20 21 22]\n",
            " [23 24 25]]\n",
            "Vertical Concatenation  \n",
            " [[ 1  2  3]\n",
            " [ 4  5  6]\n",
            " [11 12 13]\n",
            " [14 15 16]\n",
            " [17 18 19]\n",
            " [20 21 22]\n",
            " [23 24 25]]\n"
          ]
        },
        {
          "ename": "ValueError",
          "evalue": "ignored",
          "output_type": "error",
          "traceback": [
            "\u001b[0;31m---------------------------------------------------------------------------\u001b[0m",
            "\u001b[0;31mValueError\u001b[0m                                Traceback (most recent call last)",
            "\u001b[0;32m<ipython-input-10-c65dcf17da12>\u001b[0m in \u001b[0;36m<cell line: 12>\u001b[0;34m()\u001b[0m\n\u001b[1;32m     10\u001b[0m \u001b[0;34m\u001b[0m\u001b[0m\n\u001b[1;32m     11\u001b[0m \u001b[0;31m# # # Horizontal Concateation\u001b[0m\u001b[0;34m\u001b[0m\u001b[0;34m\u001b[0m\u001b[0m\n\u001b[0;32m---> 12\u001b[0;31m \u001b[0mhcon\u001b[0m \u001b[0;34m=\u001b[0m \u001b[0mnp\u001b[0m\u001b[0;34m.\u001b[0m\u001b[0mconcatenate\u001b[0m\u001b[0;34m(\u001b[0m\u001b[0;34m(\u001b[0m\u001b[0marr1\u001b[0m\u001b[0;34m,\u001b[0m\u001b[0marr2\u001b[0m\u001b[0;34m)\u001b[0m\u001b[0;34m,\u001b[0m\u001b[0maxis\u001b[0m\u001b[0;34m=\u001b[0m\u001b[0;36m1\u001b[0m\u001b[0;34m)\u001b[0m\u001b[0;34m\u001b[0m\u001b[0;34m\u001b[0m\u001b[0m\n\u001b[0m\u001b[1;32m     13\u001b[0m \u001b[0mprint\u001b[0m\u001b[0;34m(\u001b[0m\u001b[0;34mf\"Horizontal Concatenation  \\n {hcon}\"\u001b[0m\u001b[0;34m)\u001b[0m\u001b[0;34m\u001b[0m\u001b[0;34m\u001b[0m\u001b[0m\n\u001b[1;32m     14\u001b[0m \u001b[0;34m\u001b[0m\u001b[0m\n",
            "\u001b[0;32m/usr/local/lib/python3.10/dist-packages/numpy/core/overrides.py\u001b[0m in \u001b[0;36mconcatenate\u001b[0;34m(*args, **kwargs)\u001b[0m\n",
            "\u001b[0;31mValueError\u001b[0m: all the input array dimensions for the concatenation axis must match exactly, but along dimension 0, the array at index 0 has size 2 and the array at index 1 has size 5"
          ]
        }
      ],
      "source": [
        "arr1 = np.arange(1,7).reshape(2,3)\n",
        "arr2 = np.arange(11,26).reshape(5,3)\n",
        "\n",
        "print(f\"Array 1  \\n {arr1}\")\n",
        "print(f\"Array 2  \\n {arr2}\")\n",
        "\n",
        "# # # Vertical Concatenation\n",
        "vcon = np.concatenate((arr1,arr2))\n",
        "print(f\"Vertical Concatenation  \\n {vcon}\")\n",
        "\n",
        "# # # Horizontal Concateation\n",
        "hcon = np.concatenate((arr1,arr2),axis=1)\n",
        "print(f\"Horizontal Concatenation  \\n {hcon}\")\n",
        "\n",
        "# # # flatten and then concatenation\n",
        "# flat = np.concatenate((arr1,arr2),axis=None)\n",
        "# print(f\"Flat Concatenation  \\n {flat}\")\n"
      ]
    },
    {
      "cell_type": "code",
      "execution_count": 38,
      "metadata": {
        "colab": {
          "base_uri": "https://localhost:8080/"
        },
        "id": "OzPouzna31cX",
        "outputId": "7fa49a79-b65b-4619-dc97-7e973af2b0e8"
      },
      "outputs": [
        {
          "name": "stdout",
          "output_type": "stream",
          "text": [
            "Original Array  \n",
            " [[[ 1  2  3  4]\n",
            "  [ 5  6  7  8]\n",
            "  [ 9 10 11 12]]\n",
            "\n",
            " [[13 14 15 16]\n",
            "  [17 18 19 20]\n",
            "  [21 22 23 24]]]\n",
            "Transpose Array 1  \n",
            " [[[ 1 13]\n",
            "  [ 5 17]\n",
            "  [ 9 21]]\n",
            "\n",
            " [[ 2 14]\n",
            "  [ 6 18]\n",
            "  [10 22]]\n",
            "\n",
            " [[ 3 15]\n",
            "  [ 7 19]\n",
            "  [11 23]]\n",
            "\n",
            " [[ 4 16]\n",
            "  [ 8 20]\n",
            "  [12 24]]]\n",
            "Swapped Array 1  \n",
            " [[[ 1 13]\n",
            "  [ 5 17]\n",
            "  [ 9 21]]\n",
            "\n",
            " [[ 2 14]\n",
            "  [ 6 18]\n",
            "  [10 22]]\n",
            "\n",
            " [[ 3 15]\n",
            "  [ 7 19]\n",
            "  [11 23]]\n",
            "\n",
            " [[ 4 16]\n",
            "  [ 8 20]\n",
            "  [12 24]]]\n",
            "Swapped Array 2  \n",
            " [[[ 1  5  9]\n",
            "  [ 2  6 10]\n",
            "  [ 3  7 11]\n",
            "  [ 4  8 12]]\n",
            "\n",
            " [[13 17 21]\n",
            "  [14 18 22]\n",
            "  [15 19 23]\n",
            "  [16 20 24]]]\n"
          ]
        }
      ],
      "source": [
        "arr1 =  np.arange(1,25).reshape(2,3,4)\n",
        "arr1_tran = np.transpose(arr1)\n",
        "a_swap1= np.swapaxes(arr1,2,0)\n",
        "a_swap2= np.swapaxes(arr1,1,2)\n",
        "print(f\"Original Array  \\n {arr1}\")\n",
        "print(f\"Transpose Array 1  \\n {arr1_tran}\")\n",
        "print(f\"Swapped Array 1  \\n {a_swap1}\")\n",
        "print(f\"Swapped Array 2  \\n {a_swap2}\")"
      ]
    },
    {
      "cell_type": "code",
      "execution_count": null,
      "metadata": {
        "colab": {
          "base_uri": "https://localhost:8080/"
        },
        "id": "36MnueEY2FGo",
        "outputId": "d5a61282-9183-4b70-daf0-3873cede6eb1"
      },
      "outputs": [
        {
          "name": "stdout",
          "output_type": "stream",
          "text": [
            "Original Array : \n",
            " [[1 2]\n",
            " [3 4]\n",
            " [5 6]]\n",
            "Swapped Array 1 : \n",
            " [[1 3 5]\n",
            " [2 4 6]]\n",
            "Swapped Array 2 : \n",
            " [[1 3 5]\n",
            " [2 4 6]]\n"
          ]
        }
      ],
      "source": [
        "arr1 = np.arange(1,7).reshape(3,2)\n",
        "a_swap1= np.swapaxes(arr1,0,1)\n",
        "a_swap2= np.swapaxes(arr1,1,0)\n",
        "print(f\"Original Array : \\n {a}\")\n",
        "print(f\"Swapped Array 1 : \\n {a_swap1}\")\n",
        "print(f\"Swapped Array 2 : \\n {a_swap2}\")\n",
        "# print(f\"Original Array shape : {a.shape}\")\n",
        "# print(f\"Swapped Array shape: {aswap.shape}\")"
      ]
    },
    {
      "cell_type": "code",
      "execution_count": null,
      "metadata": {
        "colab": {
          "base_uri": "https://localhost:8080/"
        },
        "id": "CBtNI-aXMoG8",
        "outputId": "4dd155b1-90f9-4de6-c49c-559d30512689"
      },
      "outputs": [
        {
          "name": "stdout",
          "output_type": "stream",
          "text": [
            "arr1 :\n",
            " [[[ 0  1  2  3]\n",
            "  [ 4  5  6  7]\n",
            "  [ 8  9 10 11]]\n",
            "\n",
            " [[12 13 14 15]\n",
            "  [16 17 18 19]\n",
            "  [20 21 22 23]]]\n",
            "arr2 :\n",
            " [ 0  1  2  3  4  5  6  7  8  9 10 11 12 13 14 15 16 17 18 19 20 21 22 23]\n"
          ]
        }
      ],
      "source": [
        "arr1 = np.arange(24).reshape(2,3,4)\n",
        "arr2 = arr1.ravel()\n",
        "print(f\"arr1 :\\n {arr1}\")\n",
        "print(f\"arr2 :\\n {arr2}\")"
      ]
    },
    {
      "cell_type": "code",
      "execution_count": null,
      "metadata": {
        "colab": {
          "base_uri": "https://localhost:8080/"
        },
        "id": "JoOM811_g2bE",
        "outputId": "14df81ee-7659-4d97-ba46-4edbf2399220"
      },
      "outputs": [
        {
          "name": "stdout",
          "output_type": "stream",
          "text": [
            "arr1 : \n",
            " [[1 2 3 4]\n",
            " [5 6 7 8]]\n",
            "arr1Trans : \n",
            " [[1 5]\n",
            " [2 6]\n",
            " [3 7]\n",
            " [4 8]]\n"
          ]
        }
      ],
      "source": [
        "\n",
        "arr1 = np.arange(1,9).reshape(2,4)\n",
        "arr1Trans = np.transpose(arr1)\n",
        "print(f\"arr1 : \\n {arr1}\")\n",
        "print(f\"arr1Trans : \\n {arr1Trans}\")"
      ]
    },
    {
      "cell_type": "code",
      "execution_count": 36,
      "metadata": {
        "colab": {
          "base_uri": "https://localhost:8080/"
        },
        "id": "SLbbSm6gA7jo",
        "outputId": "ce2f0a56-7454-49b6-8083-5183759f6c51"
      },
      "outputs": [
        {
          "name": "stdout",
          "output_type": "stream",
          "text": [
            "arr1 : \n",
            " [[[ 1  2  3  4]\n",
            "  [ 5  6  7  8]\n",
            "  [ 9 10 11 12]]\n",
            "\n",
            " [[13 14 15 16]\n",
            "  [17 18 19 20]\n",
            "  [21 22 23 24]]]\n",
            "arr1Trans : \n",
            " [[[ 1  2  3  4]\n",
            "  [13 14 15 16]]\n",
            "\n",
            " [[ 5  6  7  8]\n",
            "  [17 18 19 20]]\n",
            "\n",
            " [[ 9 10 11 12]\n",
            "  [21 22 23 24]]]\n"
          ]
        }
      ],
      "source": [
        "# 2 3 4\n",
        "# 0 1 2\n",
        "arr1 = np.arange(1,25).reshape(2,3,4)\n",
        "# arr1Trans = np.transpose(arr1,(2,1,0)) # 4 3 2\n",
        "# arr1Trans = np.transpose(arr1,(2,0,1))\n",
        "# arr1Trans = np.transpose(arr1,(0,2,1))\n",
        "arr1Trans = np.transpose(arr1,(1,0,2))\n",
        "print(f\"arr1 : \\n {arr1}\")\n",
        "print(f\"arr1Trans : \\n {arr1Trans}\")"
      ]
    },
    {
      "cell_type": "code",
      "execution_count": 9,
      "metadata": {
        "colab": {
          "base_uri": "https://localhost:8080/"
        },
        "id": "6AZELIynOKbu",
        "outputId": "866ed448-ee76-407d-9d1c-03f9a7b89b85"
      },
      "outputs": [
        {
          "name": "stdout",
          "output_type": "stream",
          "text": [
            "[[ 1  3  5  7  9]\n",
            " [ 2  4  6  8 10]]\n"
          ]
        }
      ],
      "source": [
        "arr1 = np.arange(1,11)\n",
        "# type(arr1)\n",
        "arr1\n",
        "\n",
        "# arr1\n",
        "# arr2 = np.reshape(arr1,(2,5))\n",
        "# arr2 = arr1.reshape(2,5)\n",
        "# print(arr2)\n",
        "\n",
        "arr3 = arr1.reshape(2,5,order='f')\n",
        "print(arr3)\n",
        "# # arr2\n"
      ]
    },
    {
      "cell_type": "code",
      "execution_count": 25,
      "metadata": {
        "colab": {
          "base_uri": "https://localhost:8080/"
        },
        "id": "oLJ-_IjxPgzX",
        "outputId": "5b0344c0-5c82-405b-982d-c7f710ff57c5"
      },
      "outputs": [
        {
          "data": {
            "text/plain": [
              "array([[1, 2],\n",
              "       [3, 4]])"
            ]
          },
          "execution_count": 25,
          "metadata": {},
          "output_type": "execute_result"
        }
      ],
      "source": [
        "arr1 = np.arange(1,6)\n",
        "arr1\n",
        "arr2 = np.resize(arr1,(2,2))\n",
        "#arr2 = np.resize(arr1,(2,3))\n",
        "arr2\n",
        "# arr3 = np.resize([0,1],(8,8))\n",
        "# arr3"
      ]
    },
    {
      "cell_type": "code",
      "execution_count": 17,
      "metadata": {
        "colab": {
          "base_uri": "https://localhost:8080/"
        },
        "id": "oeiFmgACkR84",
        "outputId": "6792685f-dba6-4cd8-b142-8484e4f2a738"
      },
      "outputs": [
        {
          "data": {
            "text/plain": [
              "array([[ 1,  2,  3,  4],\n",
              "       [ 5,  6,  7,  8],\n",
              "       [ 9, 10, 11, 12]])"
            ]
          },
          "execution_count": 17,
          "metadata": {},
          "output_type": "execute_result"
        }
      ],
      "source": [
        "arr1 = np.arange(1,13).reshape(3,4)\n",
        "arr1"
      ]
    },
    {
      "cell_type": "code",
      "execution_count": 29,
      "metadata": {
        "colab": {
          "base_uri": "https://localhost:8080/"
        },
        "id": "MbAwpHt1kc7X",
        "outputId": "bd174e7b-8c82-4ca5-82e9-1c2714f3ea6d"
      },
      "outputs": [
        {
          "data": {
            "text/plain": [
              "array([1, 2, 3, 4, 5])"
            ]
          },
          "execution_count": 29,
          "metadata": {},
          "output_type": "execute_result"
        }
      ],
      "source": [
        "# enum = np.nditer(arr1)\n",
        "# # enum = np.ndenumerate(arr1)\n",
        "# type(enum)\n",
        "# print(np.nditer(1,1))\n",
        "# for i,j in np.ndenumerate(arr1):\n",
        "#   print(i,\" - \",j)\n",
        "\n",
        "# for x,y in enum.nditer([a,b]):\n",
        "#     print(\"%d:%d\" % (x,y))\n",
        "\n",
        "# arr2 = arr1.flatten()\n",
        "#arr1.flat\n",
        "arr2 = arr1.flatten()\n",
        "arr2\n"
      ]
    },
    {
      "cell_type": "code",
      "execution_count": null,
      "metadata": {
        "colab": {
          "base_uri": "https://localhost:8080/"
        },
        "id": "o8D4XhuRksze",
        "outputId": "72264f5f-d11e-4439-a0f9-bb41f4ae60ab"
      },
      "outputs": [
        {
          "name": "stdout",
          "output_type": "stream",
          "text": [
            " a+b  [50 60 70]\n"
          ]
        }
      ],
      "source": [
        "arr1 = np.array([10,20,30])\n",
        "arr2 = np.array([40])\n",
        "\n",
        "print(\" a+b \",arr1+arr2 )"
      ]
    },
    {
      "cell_type": "code",
      "execution_count": null,
      "metadata": {
        "colab": {
          "base_uri": "https://localhost:8080/"
        },
        "id": "Pi94dWlu4P5r",
        "outputId": "82f5b539-612e-4660-f6ac-5db84b816cfa"
      },
      "outputs": [
        {
          "name": "stdout",
          "output_type": "stream",
          "text": [
            "[[20 40]\n",
            " [40 60]\n",
            " [60 80]]\n"
          ]
        }
      ],
      "source": [
        "arr1 = np.array([[10,20],[30,40],[50,60]])\n",
        "arr2 = np.array([10,20])\n",
        "\n",
        "print(arr1+arr2 )"
      ]
    },
    {
      "cell_type": "code",
      "execution_count": null,
      "metadata": {
        "colab": {
          "base_uri": "https://localhost:8080/"
        },
        "id": "_PKhHsSu42rN",
        "outputId": "d43c4462-84d5-420e-d6d3-f2dfd6a12d9c"
      },
      "outputs": [
        {
          "name": "stdout",
          "output_type": "stream",
          "text": [
            "[[20 30 40]\n",
            " [30 40 50]\n",
            " [40 50 60]]\n"
          ]
        }
      ],
      "source": [
        "arr1 = np.array([[10],[20],[30]])\n",
        "arr2 = np.array([10,20,30])\n",
        "\n",
        "print(arr1+arr2 )"
      ]
    },
    {
      "cell_type": "code",
      "execution_count": null,
      "metadata": {
        "colab": {
          "base_uri": "https://localhost:8080/"
        },
        "id": "MZMpSoUI5VfM",
        "outputId": "99f1bfda-a7f3-44dc-d2b6-21f071e4e6f4"
      },
      "outputs": [
        {
          "name": "stdout",
          "output_type": "stream",
          "text": [
            "[[0 1 0 1 0 1 0 1]\n",
            " [1 0 1 0 1 0 1 0]\n",
            " [0 1 0 1 0 1 0 1]\n",
            " [1 0 1 0 1 0 1 0]\n",
            " [0 1 0 1 0 1 0 1]\n",
            " [1 0 1 0 1 0 1 0]\n",
            " [0 1 0 1 0 1 0 1]\n",
            " [1 0 1 0 1 0 1 0]]\n"
          ]
        }
      ],
      "source": [
        "chess = np.zeros((8,8),dtype=int)\n",
        "chess[1::2,::2] = 1\n",
        "chess[::2,1::2] = 1\n",
        "print(chess)"
      ]
    },
    {
      "cell_type": "code",
      "execution_count": null,
      "metadata": {
        "colab": {
          "base_uri": "https://localhost:8080/"
        },
        "id": "l1QnFx1r8jl-",
        "outputId": "2cc01a9a-06aa-4792-822e-815ded8a9499"
      },
      "outputs": [
        {
          "name": "stdout",
          "output_type": "stream",
          "text": [
            "[0. 0. 0. 0. 1. 0. 0. 0. 0. 0.]\n"
          ]
        }
      ],
      "source": [
        "# 2 Create a null array of size 10 but the fifth value which is 1\n",
        "arr = np.zeros(10)\n",
        "arr[4] = 1\n",
        "print(arr)"
      ]
    },
    {
      "cell_type": "code",
      "execution_count": null,
      "metadata": {
        "colab": {
          "base_uri": "https://localhost:8080/"
        },
        "id": "24LgrPdfd9LB",
        "outputId": "aa3f4ac1-b6d0-4f3d-edfd-5d5959aa7b37"
      },
      "outputs": [
        {
          "data": {
            "text/plain": [
              "array([[0.55299344, 0.66133865, 0.92926466, 0.23129587, 0.64715531,\n",
              "        0.27586226, 0.88561886, 0.69492191, 0.77040822, 0.83887552],\n",
              "       [0.59542605, 0.25270439, 0.9575267 , 0.07289194, 0.13288565,\n",
              "        0.75283126, 0.84054667, 0.00113893, 0.73447572, 0.35906656],\n",
              "       [0.77763753, 0.92948787, 0.72364432, 0.96113996, 0.83736583,\n",
              "        0.12620878, 0.40371955, 0.08758224, 0.99684976, 0.58643221],\n",
              "       [0.77511955, 0.19389976, 0.34224117, 0.54718657, 0.53763059,\n",
              "        0.98846374, 0.22243832, 0.56112354, 0.575047  , 0.70857353],\n",
              "       [0.35503372, 0.50106155, 0.01195907, 0.33082938, 0.63961185,\n",
              "        0.91554622, 0.7299596 , 0.98668988, 0.63231087, 0.07171669],\n",
              "       [0.41140495, 0.98069554, 0.34901602, 0.64477234, 0.91501854,\n",
              "        0.84065792, 0.69366219, 0.06065558, 0.80400468, 0.36529272],\n",
              "       [0.67216376, 0.52792007, 0.15212394, 0.05473843, 0.4208355 ,\n",
              "        0.50965468, 0.04109187, 0.90642967, 0.66877504, 0.43224055],\n",
              "       [0.69619843, 0.75368503, 0.61072691, 0.4377069 , 0.77145106,\n",
              "        0.71770098, 0.77640472, 0.32716732, 0.65082741, 0.59764047],\n",
              "       [0.84806263, 0.87716059, 0.32161462, 0.52180046, 0.24565272,\n",
              "        0.25212544, 0.71054695, 0.45888547, 0.02579089, 0.67934758],\n",
              "       [0.72815905, 0.67496097, 0.94636832, 0.8826424 , 0.32107078,\n",
              "        0.03751493, 0.46525871, 0.95518149, 0.21501045, 0.99176593]])"
            ]
          },
          "execution_count": 6,
          "metadata": {},
          "output_type": "execute_result"
        }
      ],
      "source": [
        "#4 Create a 5x5 array with random values and find the minimum and maximum values\n",
        "arr = np.random.random((10,10))\n",
        "# min, max = arr.min(), arr.max()\n",
        "# print(min, max)"
      ]
    },
    {
      "cell_type": "code",
      "execution_count": null,
      "metadata": {
        "colab": {
          "base_uri": "https://localhost:8080/"
        },
        "id": "P_m-H8Z4eXMx",
        "outputId": "71ff28d7-c3bb-4994-909d-fc874d79d80f"
      },
      "outputs": [
        {
          "name": "stdout",
          "output_type": "stream",
          "text": [
            "[[0 0 0 0 0]\n",
            " [1 0 0 0 0]\n",
            " [0 2 0 0 0]\n",
            " [0 0 3 0 0]\n",
            " [0 0 0 4 0]]\n"
          ]
        }
      ],
      "source": [
        "#5 Create a 5x5 matrix with values 1,2,3,4 just below the diagonal\n",
        "arr = np.diag(np.arange(4)+1,k=-1)\n",
        "print(arr)"
      ]
    },
    {
      "cell_type": "code",
      "execution_count": null,
      "metadata": {
        "colab": {
          "base_uri": "https://localhost:8080/"
        },
        "id": "4SSc8yYGeisU",
        "outputId": "35284bda-03c9-471e-b73b-e7c5b418d2e1"
      },
      "outputs": [
        {
          "data": {
            "text/plain": [
              "array([[1, 1, 1, 1, 1],\n",
              "       [1, 0, 0, 0, 1],\n",
              "       [1, 0, 0, 0, 1],\n",
              "       [1, 0, 0, 0, 1],\n",
              "       [1, 1, 1, 1, 1]])"
            ]
          },
          "execution_count": 21,
          "metadata": {},
          "output_type": "execute_result"
        }
      ],
      "source": [
        "# #6 Create a 2d array with 1 on the border and 0 inside\n",
        "# arr = np.ones((5,5),dtype = int)\n",
        "# arr[1:-1,1:-1] = 0\n",
        "# arr\n"
      ]
    },
    {
      "cell_type": "code",
      "execution_count": null,
      "metadata": {
        "colab": {
          "base_uri": "https://localhost:8080/"
        },
        "id": "ueantLIneuyS",
        "outputId": "9c0d5dc3-a2c3-4480-f7f7-07cd04fae335"
      },
      "outputs": [
        {
          "data": {
            "text/plain": [
              "array([0.04198261, 0.15458253, 0.42084028, 0.50400837, 0.70297689,\n",
              "       0.7637555 , 0.77315495, 0.8076211 , 0.82117141, 0.88289717])"
            ]
          },
          "execution_count": 13,
          "metadata": {},
          "output_type": "execute_result"
        }
      ],
      "source": [
        "#8 Create a random array of size 10 and sort it.\n",
        "arr = np.random.random(10)\n",
        "arr.sort()\n",
        "arr"
      ]
    },
    {
      "cell_type": "code",
      "execution_count": null,
      "metadata": {
        "colab": {
          "base_uri": "https://localhost:8080/"
        },
        "id": "Kpzjt4ykfKeu",
        "outputId": "3b70c394-1413-45f8-96e6-604bf3a3ec93"
      },
      "outputs": [
        {
          "data": {
            "text/plain": [
              "array([[ 5,  6,  7,  8,  9],\n",
              "       [ 0,  1,  2,  3,  4],\n",
              "       [10, 11, 12, 13, 14],\n",
              "       [15, 16, 17, 18, 19],\n",
              "       [20, 21, 22, 23, 24]])"
            ]
          },
          "execution_count": 15,
          "metadata": {},
          "output_type": "execute_result"
        }
      ],
      "source": [
        "#9 How to swap two rows of matrix.\n",
        "arr = np.arange(25).reshape(5,5)\n",
        "arr[[0,1]] = arr[[1,0]]\n",
        "arr"
      ]
    },
    {
      "cell_type": "code",
      "execution_count": null,
      "metadata": {
        "id": "WGtFNpYEfTMJ"
      },
      "outputs": [],
      "source": []
    }
  ],
  "metadata": {
    "colab": {
      "provenance": []
    },
    "kernelspec": {
      "display_name": "Python 3",
      "name": "python3"
    },
    "language_info": {
      "codemirror_mode": {
        "name": "ipython",
        "version": 3
      },
      "file_extension": ".py",
      "mimetype": "text/x-python",
      "name": "python",
      "nbconvert_exporter": "python",
      "pygments_lexer": "ipython3",
      "version": "3.11.4"
    }
  },
  "nbformat": 4,
  "nbformat_minor": 0
}
